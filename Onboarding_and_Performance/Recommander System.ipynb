{
 "cells": [
  {
   "cell_type": "code",
   "execution_count": 3,
   "id": "f323b7c9",
   "metadata": {},
   "outputs": [],
   "source": [
    "import pandas as pd\n",
    "import numpy as np\n",
    "\n",
    "from sklearn.feature_extraction.text import TfidfVectorizer\n",
    "from sklearn.metrics.pairwise import linear_kernel"
   ]
  },
  {
   "cell_type": "code",
   "execution_count": 4,
   "id": "e52fa442",
   "metadata": {},
   "outputs": [
    {
     "data": {
      "text/plain": [
       "Index(['id', 'teams', 'previous_experience', 'hobbies', 'sports'], dtype='object')"
      ]
     },
     "execution_count": 4,
     "metadata": {},
     "output_type": "execute_result"
    }
   ],
   "source": [
    "employees = pd.read_csv(r\"fau_onboarding.csv\")\n",
    "employees.columns"
   ]
  },
  {
   "cell_type": "code",
   "execution_count": 5,
   "id": "4cbaaecf",
   "metadata": {},
   "outputs": [
    {
     "data": {
      "text/html": [
       "<div>\n",
       "<style scoped>\n",
       "    .dataframe tbody tr th:only-of-type {\n",
       "        vertical-align: middle;\n",
       "    }\n",
       "\n",
       "    .dataframe tbody tr th {\n",
       "        vertical-align: top;\n",
       "    }\n",
       "\n",
       "    .dataframe thead th {\n",
       "        text-align: right;\n",
       "    }\n",
       "</style>\n",
       "<table border=\"1\" class=\"dataframe\">\n",
       "  <thead>\n",
       "    <tr style=\"text-align: right;\">\n",
       "      <th></th>\n",
       "      <th>id</th>\n",
       "      <th>teams</th>\n",
       "      <th>previous_experience</th>\n",
       "      <th>hobbies</th>\n",
       "      <th>sports</th>\n",
       "    </tr>\n",
       "  </thead>\n",
       "  <tbody>\n",
       "    <tr>\n",
       "      <th>0</th>\n",
       "      <td>emp_001</td>\n",
       "      <td>team_02</td>\n",
       "      <td>Expert.</td>\n",
       "      <td>Hobbies for learning, reading, and curiosity.</td>\n",
       "      <td>tennis</td>\n",
       "    </tr>\n",
       "    <tr>\n",
       "      <th>1</th>\n",
       "      <td>emp_002</td>\n",
       "      <td>team_01</td>\n",
       "      <td>Novice.</td>\n",
       "      <td>Hobbies for arts, creativity, and imagination.</td>\n",
       "      <td>volleyball</td>\n",
       "    </tr>\n",
       "    <tr>\n",
       "      <th>2</th>\n",
       "      <td>emp_003</td>\n",
       "      <td>team_03</td>\n",
       "      <td>Advanced beginner.</td>\n",
       "      <td>Hobbies for fitness, health, and wellbeing.</td>\n",
       "      <td>volleyball</td>\n",
       "    </tr>\n",
       "    <tr>\n",
       "      <th>3</th>\n",
       "      <td>emp_004</td>\n",
       "      <td>team_04</td>\n",
       "      <td>Competent.</td>\n",
       "      <td>Hobbies for money, assets, and content creation.</td>\n",
       "      <td>tennis</td>\n",
       "    </tr>\n",
       "    <tr>\n",
       "      <th>4</th>\n",
       "      <td>emp_005</td>\n",
       "      <td>team_05</td>\n",
       "      <td>Proficient.</td>\n",
       "      <td>Hobbies for fitness, health, and wellbeing.</td>\n",
       "      <td>swimming</td>\n",
       "    </tr>\n",
       "  </tbody>\n",
       "</table>\n",
       "</div>"
      ],
      "text/plain": [
       "        id    teams previous_experience  \\\n",
       "0  emp_001  team_02             Expert.   \n",
       "1  emp_002  team_01             Novice.   \n",
       "2  emp_003  team_03  Advanced beginner.   \n",
       "3  emp_004  team_04          Competent.   \n",
       "4  emp_005  team_05         Proficient.   \n",
       "\n",
       "                                            hobbies      sports  \n",
       "0     Hobbies for learning, reading, and curiosity.      tennis  \n",
       "1    Hobbies for arts, creativity, and imagination.  volleyball  \n",
       "2       Hobbies for fitness, health, and wellbeing.  volleyball  \n",
       "3  Hobbies for money, assets, and content creation.      tennis  \n",
       "4       Hobbies for fitness, health, and wellbeing.    swimming  "
      ]
     },
     "execution_count": 5,
     "metadata": {},
     "output_type": "execute_result"
    }
   ],
   "source": [
    "employees.head()"
   ]
  },
  {
   "cell_type": "code",
   "execution_count": 6,
   "id": "24d29d1b",
   "metadata": {},
   "outputs": [],
   "source": [
    "def create_soup(x):\n",
    "    return''.join(x['previous_experience']) + ''.join(x['hobbies']) + ''.join(x['sports']) \n",
    "employees['soup'] = employees.apply(create_soup, axis = 1)"
   ]
  },
  {
   "cell_type": "code",
   "execution_count": 7,
   "id": "b2e78bcc",
   "metadata": {},
   "outputs": [
    {
     "data": {
      "text/plain": [
       "(33, 27)"
      ]
     },
     "execution_count": 7,
     "metadata": {},
     "output_type": "execute_result"
    }
   ],
   "source": [
    "tfidf = TfidfVectorizer(stop_words = 'english')\n",
    "tfidf_matrix = tfidf.fit_transform(employees['soup'])\n",
    "tfidf_matrix.shape"
   ]
  },
  {
   "cell_type": "code",
   "execution_count": 8,
   "id": "db09c8a0",
   "metadata": {},
   "outputs": [],
   "source": [
    "cosine_sim = linear_kernel(tfidf_matrix, tfidf_matrix)\n",
    "\n",
    "indices = pd.Series(employees.index, index = employees['id']).drop_duplicates()"
   ]
  },
  {
   "cell_type": "code",
   "execution_count": 42,
   "id": "33f29b55",
   "metadata": {},
   "outputs": [],
   "source": [
    "def get_recommendations (ID, cosine_sim = cosine_sim):\n",
    "    #get index of employee that matches the employee id\n",
    "    IDx = indices[ID]\n",
    "    \n",
    "    sim_scores = list(enumerate(cosine_sim[IDx]))\n",
    "    \n",
    "    sim_scores = sorted(sim_scores, key = lambda x: x[1], reverse = True)\n",
    "    \n",
    "    #get the score of the 5 most similar employees\n",
    "    sim_scores = sim_scores[1:6]\n",
    "    \n",
    "    #get employee indices\n",
    "    employee_indices = [i[0] for i in sim_scores]\n",
    "    \n",
    "    #return the top 5 most similar employees\n",
    "    return employees['id'].iloc[employee_indices]"
   ]
  },
  {
   "cell_type": "code",
   "execution_count": 43,
   "id": "5cedf718",
   "metadata": {},
   "outputs": [
    {
     "data": {
      "text/plain": [
       "26    emp_027\n",
       "1     emp_002\n",
       "2     emp_003\n",
       "12    emp_013\n",
       "24    emp_025\n",
       "Name: id, dtype: object"
      ]
     },
     "execution_count": 43,
     "metadata": {},
     "output_type": "execute_result"
    }
   ],
   "source": [
    "get_recommendations('emp_033', cosine_sim)"
   ]
  }
 ],
 "metadata": {
  "kernelspec": {
   "display_name": "Python 3",
   "language": "python",
   "name": "python3"
  },
  "language_info": {
   "codemirror_mode": {
    "name": "ipython",
    "version": 3
   },
   "file_extension": ".py",
   "mimetype": "text/x-python",
   "name": "python",
   "nbconvert_exporter": "python",
   "pygments_lexer": "ipython3",
   "version": "3.8.5"
  }
 },
 "nbformat": 4,
 "nbformat_minor": 5
}
